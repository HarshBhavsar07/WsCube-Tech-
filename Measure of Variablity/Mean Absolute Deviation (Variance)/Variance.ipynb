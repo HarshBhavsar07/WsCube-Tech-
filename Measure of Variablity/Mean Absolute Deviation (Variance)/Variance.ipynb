{
 "cells": [
  {
   "cell_type": "code",
   "execution_count": 1,
   "id": "2324af5c-a34f-4899-a8ed-2fc578dd697b",
   "metadata": {},
   "outputs": [],
   "source": [
    "import numpy as np\n",
    "import pandas as pd\n",
    "import matplotlib.pyplot as plt\n",
    "import seaborn as sns\n"
   ]
  },
  {
   "cell_type": "code",
   "execution_count": 6,
   "id": "fcb57f15-0ab4-46b7-9e1c-277330e65c1e",
   "metadata": {},
   "outputs": [],
   "source": [
    "sec_a=np.array([75,65,73,68,72,76])\n",
    "sec_b=np.array([90,47,43,96,93,51])\n",
    "no = np.array([1,2,3,4,5,6])"
   ]
  },
  {
   "cell_type": "code",
   "execution_count": 7,
   "id": "07f682aa-adc6-4564-92cf-c3bcfea6d62e",
   "metadata": {},
   "outputs": [
    {
     "data": {
      "text/plain": [
       "(array([75, 65, 73, 68, 72, 76]), array([90, 47, 43, 96, 93, 51]))"
      ]
     },
     "execution_count": 7,
     "metadata": {},
     "output_type": "execute_result"
    }
   ],
   "source": [
    "sec_a,sec_b"
   ]
  },
  {
   "cell_type": "code",
   "execution_count": 22,
   "id": "f3417b65-9756-474e-b640-1ac3fbf80943",
   "metadata": {},
   "outputs": [
    {
     "data": {
      "text/plain": [
       "np.float64(70.0)"
      ]
     },
     "execution_count": 22,
     "metadata": {},
     "output_type": "execute_result"
    }
   ],
   "source": [
    "mean=np.mean(sec_b)\n",
    "mean"
   ]
  },
  {
   "cell_type": "code",
   "execution_count": 24,
   "id": "5c48452f-c72e-4c33-81d3-cab15ff248ed",
   "metadata": {},
   "outputs": [
    {
     "data": {
      "image/png": "[encoded data removed]",
      "text/plain": [
       "<Figure size 1000x300 with 1 Axes>"
      ]
     },
     "metadata": {},
     "output_type": "display_data"
    }
   ],
   "source": [
    "plt.figure(figsize=(10,3))\n",
    "plt.scatter(sec_a,no,label='sec_a')\n",
    "plt.scatter(sec_b,no,label='sec_b')\n",
    "#plt.plot([70,70,70,70,70,70] for i in range(1,7),no,c='blue',label='mean'])\n",
    "plt.legend()\n",
    "plt.show()"
   ]
  },
  {
   "cell_type": "code",
   "execution_count": 28,
   "id": "4f6032ee-e527-4e83-af95-5d3c359ac9c7",
   "metadata": {},
   "outputs": [
    {
     "name": "stdout",
     "output_type": "stream",
     "text": [
      "3.8333333333333335\n"
     ]
    }
   ],
   "source": [
    "mad = np.sum(np.abs(sec_a - mean)) / len(sec_a)\n",
    "print(mad)\n"
   ]
  },
  {
   "cell_type": "code",
   "execution_count": 29,
   "id": "2e18fa65-7287-455d-821f-d8dcab4b1050",
   "metadata": {},
   "outputs": [
    {
     "name": "stdout",
     "output_type": "stream",
     "text": [
      "23.0\n"
     ]
    }
   ],
   "source": [
    "mad = np.sum(np.abs(sec_b - mean)) / len(sec_b)\n",
    "print(mad)"
   ]
  }
 ],
 "metadata": {
  "kernelspec": {
   "display_name": "Python 3 (ipykernel)",
   "language": "python",
   "name": "python3"
  },
  "language_info": {
   "codemirror_mode": {
    "name": "ipython",
    "version": 3
   },
   "file_extension": ".py",
   "mimetype": "text/x-python",
   "name": "python",
   "nbconvert_exporter": "python",
   "pygments_lexer": "ipython3",
   "version": "3.13.5"
  }
 },
 "nbformat": 4,
 "nbformat_minor": 5
}
