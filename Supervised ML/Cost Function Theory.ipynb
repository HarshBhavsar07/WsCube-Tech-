{
 "cells": [
  {
   "cell_type": "code",
   "execution_count": 2,
   "id": "6686b65c-9830-4931-b6a4-f1f79b4ae60f",
   "metadata": {},
   "outputs": [],
   "source": [
    "# Cost Function is an Important Parameter that determine how well a machine learning model perform a given task \n",
    "#Its measure of how wrong the model is estimating the relationship between X(Input) and Y(Output) Parameter . "
   ]
  },
  {
   "cell_type": "code",
   "execution_count": 9,
   "id": "b5a33b24-6707-461f-8e4e-3109b1060eda",
   "metadata": {},
   "outputs": [],
   "source": [
    "# Types of Cost Function\n",
    "    # 1. Regression Cost Function\n",
    "    # 2. Classification Cost Function\n",
    "\n",
    "# Regression Cost function \n",
    "#       1. MSE (Mean Square Error)\n",
    "#       2. RMSE (Root Mean Square Error)\n",
    "#       3. MAE (Mean Absolute Error)\n",
    "#       4. R^2 Accuracy \n",
    "# Classification Cost Function\n",
    "#       1. Binary Classification Cost Function\n",
    "#       2. Multi-Class Classification Cost Function\n",
    "\n",
    "\n"
   ]
  },
  {
   "cell_type": "code",
   "execution_count": null,
   "id": "d161abdb-80af-4fe4-afc6-ca39651f7c5e",
   "metadata": {},
   "outputs": [],
   "source": [
    "# MSE (Mean Square Error)\n",
    "# Mean square difference between the actual and predicted values."
   ]
  },
  {
   "cell_type": "code",
   "execution_count": 10,
   "id": "6c84d204-e73c-4ac6-b48c-5f850a48d1e3",
   "metadata": {},
   "outputs": [],
   "source": [
    "# RMSE (Root Mean Square Error)\n",
    "# Mean Absolute Difference Between Actual values and predicted values"
   ]
  },
  {
   "cell_type": "code",
   "execution_count": 11,
   "id": "e8102226-d6de-4f6f-aa07-6ae259d25757",
   "metadata": {},
   "outputs": [],
   "source": [
    "# RMSE (Root Mean Square Error)\n",
    "#Difference between actual and predicted values"
   ]
  }
 ],
 "metadata": {
  "kernelspec": {
   "display_name": "Python 3 (ipykernel)",
   "language": "python",
   "name": "python3"
  },
  "language_info": {
   "codemirror_mode": {
    "name": "ipython",
    "version": 3
   },
   "file_extension": ".py",
   "mimetype": "text/x-python",
   "name": "python",
   "nbconvert_exporter": "python",
   "pygments_lexer": "ipython3",
   "version": "3.13.5"
  }
 },
 "nbformat": 4,
 "nbformat_minor": 5
}
