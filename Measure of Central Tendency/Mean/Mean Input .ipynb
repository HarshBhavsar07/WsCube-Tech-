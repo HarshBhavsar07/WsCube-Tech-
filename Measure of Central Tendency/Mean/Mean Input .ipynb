{
 "cells": [
  {
   "cell_type": "code",
   "execution_count": 1,
   "id": "2e6aef1c-ae51-4ef7-aa5f-1ef66370b19d",
   "metadata": {},
   "outputs": [],
   "source": [
    "import pandas as pd\n",
    "import numpy as np"
   ]
  },
  {
   "cell_type": "code",
   "execution_count": 2,
   "id": "23ad4c67-17bb-47e2-bf94-f896ac0cab16",
   "metadata": {},
   "outputs": [],
   "source": [
    "ar = np.array([2,3,2,4,5,6,5,4,7,6,9,10])"
   ]
  },
  {
   "cell_type": "code",
   "execution_count": null,
   "id": "5ced01fa-7743-4566-8c44-9509e97c753f",
   "metadata": {},
   "outputs": [
    {
     "data": {
      "text/plain": [
       "array([ 2,  3,  2,  4,  5,  6,  5,  4,  7,  6,  9, 10])"
      ]
     },
     "execution_count": 3,
     "metadata": {},
     "output_type": "execute_result"
    }
   ],
   "source": [
    "ar"
   ]
  },
  {
   "cell_type": "code",
   "execution_count": 1,
   "id": "30163711-c35f-4517-a807-4a75bbe7f9d7",
   "metadata": {},
   "outputs": [
    {
     "ename": "NameError",
     "evalue": "name 'np' is not defined",
     "output_type": "error",
     "traceback": [
      "\u001b[1;31m---------------------------------------------------------------------------\u001b[0m",
      "\u001b[1;31mNameError\u001b[0m                                 Traceback (most recent call last)",
      "Cell \u001b[1;32mIn[1], line 1\u001b[0m\n\u001b[1;32m----> 1\u001b[0m np\u001b[38;5;241m.\u001b[39msum(ar)\n",
      "\u001b[1;31mNameError\u001b[0m: name 'np' is not defined"
     ]
    }
   ],
   "source": [
    "np.sum(ar) #To get sum of all no present in array"
   ]
  },
  {
   "cell_type": "code",
   "execution_count": 14,
   "id": "96f09bf2-143b-4fed-88f4-6830b8b9d474",
   "metadata": {},
   "outputs": [],
   "source": [
    "l=len(ar) #To find length of array"
   ]
  },
  {
   "cell_type": "code",
   "execution_count": 15,
   "id": "cd73db09-5ca9-4712-a956-8dfc6ff35b4f",
   "metadata": {},
   "outputs": [
    {
     "data": {
      "text/plain": [
       "12"
      ]
     },
     "execution_count": 15,
     "metadata": {},
     "output_type": "execute_result"
    }
   ],
   "source": [
    "l"
   ]
  },
  {
   "cell_type": "code",
   "execution_count": 16,
   "id": "d9f3b0e3-6460-4a31-9af6-db6ae49816fb",
   "metadata": {},
   "outputs": [],
   "source": [
    "mean=np.sum(ar)/len(ar) #Formulae to find mean of array"
   ]
  },
  {
   "cell_type": "code",
   "execution_count": 17,
   "id": "2079707c-1528-4bcf-bde7-4e4e5c83eef9",
   "metadata": {},
   "outputs": [
    {
     "data": {
      "text/plain": [
       "np.float64(5.25)"
      ]
     },
     "execution_count": 17,
     "metadata": {},
     "output_type": "execute_result"
    }
   ],
   "source": [
    "mean #Mean of array"
   ]
  }
 ],
 "metadata": {
  "kernelspec": {
   "display_name": "base",
   "language": "python",
   "name": "python3"
  },
  "language_info": {
   "codemirror_mode": {
    "name": "ipython",
    "version": 3
   },
   "file_extension": ".py",
   "mimetype": "text/x-python",
   "name": "python",
   "nbconvert_exporter": "python",
   "pygments_lexer": "ipython3",
   "version": "3.13.5"
  }
 },
 "nbformat": 4,
 "nbformat_minor": 5
}
